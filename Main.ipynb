{
 "cells": [
  {
   "cell_type": "markdown",
   "id": "9cc88f0e-1d24-4a59-955c-51603f9dcf03",
   "metadata": {
    "tags": []
   },
   "source": [
    "![logo_ironhack_blue 7](https://user-images.githubusercontent.com/23629340/40541063-a07a0a8a-601a-11e8-91b5-2f13e4e6b441.png)\n",
    "\n",
    "# Lab | Inferential statistics - T-test & P-value\n",
    "\n",
    "## Instructions\n",
    "\n",
    "1. *One tailed t-test* - In a packing plant, a machine packs cartons with jars. It is supposed that a new machine will pack faster on the average than the machine currently used. To test that hypothesis, the times it takes each machine to pack ten cartons are recorded. The results, in seconds, are shown in the tables in the file `files_for_lab/machine.txt`.\n",
    "   Assume that there is sufficient evidence to conduct the t test, does the data provide sufficient evidence to show if one machine is better than the other?\n",
    "\n",
    "2. *Matched Pairs Test* - In this challenge we will compare dependent samples of data describing our Pokemon (file `files_for_lab/pokemon.csv`). Our goal is to see whether there is a significant difference between each Pokemon's defense and attack scores. Our hypothesis is that the defense and attack scores are equal. Compare the two columns to see if there is a statistically significant difference between them and comment your result.\n",
    "\n",
    "\n",
    "## Inferential statistics - ANOVA\n",
    "\n",
    "Note: The following lab is divided in 2 sections which represent activities 3 and 4.\n",
    "\n",
    "### Part 1\n",
    "\n",
    "In this activity, we will look at another example. Your task is to understand the problem and write down all the steps to set up ANOVA. After the next lesson, we will ask you to solve this problem using Python. Here are the steps that you would need to work on:\n",
    "    - Null hypothesis\n",
    "    - Alternate hypothesis\n",
    "    - Level of significance\n",
    "    - Test statistic\n",
    "    - P-value\n",
    "    - F table\n",
    "\n",
    "#### Context\n",
    "\n",
    "Suppose you are working as an analyst in a microprocessor chip manufacturing plant. You have been given the task of analyzing a plasma etching process with respect to changing Power (in Watts) of the plasma beam. Data was collected and provided to you to conduct statistical analysis and check if changing the power of the plasma beam has any effect on the etching rate by the machine. You will conduct ANOVA and check if there is any difference in the mean etching rate for different levels of power. You can find the data `anova_lab_data.xlsx` file in the `files_for_lab` folder  \n",
    "\n",
    "- State the null hypothesis\n",
    "- State the alternate hypothesis\n",
    "- What is the significance level\n",
    "- What are the degrees of freedom of model, error terms, and total DoF\n",
    "\n",
    "Data was collected randomly and provided to you in the table as shown: [link to the image - Data](https://education-team-2020.s3-eu-west-1.amazonaws.com/data-analytics/7.05/7.05-lab_data.png)\n",
    "\n",
    "\n",
    "### Part 2\n",
    "\n",
    "- In this section, use the Python to conduct ANOVA.\n",
    "- What conclusions can you draw from the experiment and why?"
   ]
  },
  {
   "cell_type": "markdown",
   "id": "47ad0de9-01c7-47bc-8e54-c084d8704541",
   "metadata": {},
   "source": [
    "## Imports"
   ]
  },
  {
   "cell_type": "code",
   "execution_count": null,
   "id": "d19540e6-4c05-4d97-a6a6-c12500f551e7",
   "metadata": {},
   "outputs": [],
   "source": [
    "import numpy as np\n",
    "import pandas as pd\n",
    "\n",
    "import scipy.stats as st"
   ]
  },
  {
   "cell_type": "markdown",
   "id": "9e0599ec-3ad5-4f02-ab48-c2465688403b",
   "metadata": {},
   "source": [
    "## One Tailed T-Test\n",
    "\n",
    "Hypothesis\n",
    "$$H0: \\mu_{New} <= \\mu_{Old}$$\n",
    "$$H1: \\mu_{New} > \\mu_{Old}$$"
   ]
  },
  {
   "cell_type": "code",
   "execution_count": null,
   "id": "5ad7fa81-f783-4128-93c6-005e9c80be74",
   "metadata": {},
   "outputs": [],
   "source": [
    "machine = pd.read_csv(\"files_for_lab/machine.txt\", encoding = \"utf-16\", sep = \"\\t\", names = [\"New\", \"Old\"], header=0)\n",
    "machine"
   ]
  },
  {
   "cell_type": "code",
   "execution_count": null,
   "id": "ebe9cefa-8224-4178-897d-d012fd2e9455",
   "metadata": {},
   "outputs": [],
   "source": [
    "machine[\"New\"].mean(), machine[\"Old\"].mean()"
   ]
  },
  {
   "cell_type": "code",
   "execution_count": null,
   "id": "c265d44d-5cd9-482f-a337-d03c1d799840",
   "metadata": {},
   "outputs": [],
   "source": [
    "ab_t, ab_p = st.ttest_ind(machine[\"New\"], machine[\"Old\"], alternative=\"greater\", equal_var=False)\n",
    "ab_t, ab_p"
   ]
  },
  {
   "cell_type": "code",
   "execution_count": null,
   "id": "682d48df-cf1c-483a-b7b0-02e9f4f2bf08",
   "metadata": {},
   "outputs": [],
   "source": [
    "ab_cv = st.t.ppf(0.95, df = len(machine[\"New\"])+len(machine[\"Old\"]-2))\n",
    "ab_cv"
   ]
  },
  {
   "cell_type": "code",
   "execution_count": null,
   "id": "c1400c60-58b2-4630-aeaf-740a7ef887d6",
   "metadata": {},
   "outputs": [],
   "source": [
    "ab_t < ab_cv"
   ]
  },
  {
   "cell_type": "code",
   "execution_count": null,
   "id": "6a6bb95a-71af-4df6-a272-500eeb69cce0",
   "metadata": {},
   "outputs": [],
   "source": [
    "ab_a = st.t.cdf(ab_t, df = len(machine[\"New\"])+len(machine[\"Old\"]-2))\n",
    "ab_a"
   ]
  },
  {
   "cell_type": "code",
   "execution_count": null,
   "id": "ab6d5a8f-a41a-40ce-a971-8a985668f07b",
   "metadata": {},
   "outputs": [],
   "source": [
    "ab_a < 0.95"
   ]
  },
  {
   "cell_type": "markdown",
   "id": "9d38e8bd-02e0-4ded-9eca-b5fecb3b9fbf",
   "metadata": {},
   "source": [
    "H0 is accepted, the new machine is faster"
   ]
  },
  {
   "cell_type": "markdown",
   "id": "180c4c5d-ff59-4ada-a901-4edd244a8b16",
   "metadata": {},
   "source": [
    "## Matched Pairs Test\n",
    "\n",
    "Hypothesis:\n",
    "$$H0: \\mu_{Attack} = \\mu_{Defense} → \\mu_{Attack} - \\mu_{Defense} = 0$$\n",
    "$$H1: \\mu_{Attack} \\neq \\mu_{Defense} → \\mu_{Attack} - \\mu_{Defense} \\neq 0$$"
   ]
  },
  {
   "cell_type": "code",
   "execution_count": null,
   "id": "13779b17-c810-4f73-9938-b62d08b502b0",
   "metadata": {},
   "outputs": [],
   "source": [
    "pokemon = pd.read_csv(\"files_for_lab/pokemon.csv\", index_col = 0)\n",
    "pokemon.head()"
   ]
  },
  {
   "cell_type": "code",
   "execution_count": null,
   "id": "8f72ee72-61e5-4ea7-abed-4b8fa12de5f4",
   "metadata": {},
   "outputs": [],
   "source": [
    "pokemon[\"Attack\"].mean(), pokemon[\"Defense\"].mean()"
   ]
  },
  {
   "cell_type": "code",
   "execution_count": null,
   "id": "f954b4c2-c686-4ee7-ac4b-61f3c819fc66",
   "metadata": {},
   "outputs": [],
   "source": [
    "mp_t, mp_p = st.ttest_rel(pokemon[\"Attack\"], pokemon[\"Defense\"])\n",
    "mp_t, mp_p"
   ]
  },
  {
   "cell_type": "code",
   "execution_count": null,
   "id": "6fe574f0-b554-456e-a3e7-c01b56865511",
   "metadata": {},
   "outputs": [],
   "source": [
    "mp_cv_u = st.t.ppf(1-(0.05/2), df = pokemon.shape[0]-1)\n",
    "mp_cv_l = st.t.ppf((0.05/2), df = pokemon.shape[0]-1)\n",
    "mp_cv_u, mp_cv_l"
   ]
  },
  {
   "cell_type": "code",
   "execution_count": null,
   "id": "8633de35-dc14-4288-87f1-f85616c28b35",
   "metadata": {},
   "outputs": [],
   "source": [
    "mp_cv_u >= mp_t >= mp_cv_l"
   ]
  },
  {
   "cell_type": "code",
   "execution_count": null,
   "id": "fd43947d-330f-41ab-ae71-df076763b2ac",
   "metadata": {},
   "outputs": [],
   "source": [
    "mp_a = st.t.cdf(mp_t, df = pokemon.shape[0]-1)\n",
    "mp_a"
   ]
  },
  {
   "cell_type": "code",
   "execution_count": null,
   "id": "3064b8cd-fe06-4c7c-8076-f31bdb0ec703",
   "metadata": {},
   "outputs": [],
   "source": [
    "(1-(0.05/2)) >= mp_a >= (0.05/2)"
   ]
  },
  {
   "cell_type": "markdown",
   "id": "fb277789-9c22-4458-b342-a02c47f0c481",
   "metadata": {},
   "source": [
    "H0 is rejected, Attack and Defense are not equal"
   ]
  },
  {
   "cell_type": "markdown",
   "id": "755b5619-f6b1-4e76-bddd-523dc472a313",
   "metadata": {},
   "source": [
    "## ANOVA\n",
    "\n",
    "### Part 1\n",
    "\n",
    "- Null hypothesis: there is NO difference in etching rate\n",
    "- Alternate hypothesis: there is difference in etching rate\n",
    "- Level of significance: 0.05"
   ]
  },
  {
   "cell_type": "code",
   "execution_count": null,
   "id": "ee6c0841-e926-4222-a91c-3d433ccff545",
   "metadata": {},
   "outputs": [],
   "source": [
    "anova = pd.read_excel(\"files_for_lab/anova_lab_data.xlsx\", header = 0, names = [\"Power\", \"Rate\"])\n",
    "anova.head()"
   ]
  },
  {
   "cell_type": "code",
   "execution_count": null,
   "id": "50efe1c9-839c-40b3-a9a6-0dee2abffbca",
   "metadata": {},
   "outputs": [],
   "source": [
    "anova[\"Power\"] = pd.to_numeric(anova[\"Power\"].apply(lambda x: x.strip(\" W\")))\n",
    "anova.head()"
   ]
  },
  {
   "cell_type": "code",
   "execution_count": null,
   "id": "f1de7ab6-c6a1-45c5-b082-75f01fbaea68",
   "metadata": {},
   "outputs": [],
   "source": [
    "group_anova = anova.groupby(\"Power\")[\"Rate\"].agg(Rate=\"mean\", Samples=\"size\").reset_index()\n",
    "group_anova"
   ]
  },
  {
   "cell_type": "code",
   "execution_count": null,
   "id": "a18fec6a-38f9-456c-9dd2-78c473d5a2e0",
   "metadata": {},
   "outputs": [],
   "source": [
    "# Degrees of Freedom\n",
    "df = len(anova)-len(group_anova)\n",
    "df"
   ]
  },
  {
   "cell_type": "markdown",
   "id": "8ed9a540-cfb7-4efa-bd59-7fa3a60340c3",
   "metadata": {},
   "source": [
    "### Part 2"
   ]
  },
  {
   "cell_type": "markdown",
   "id": "949d230b-1f99-4491-8afd-ed35b10101fc",
   "metadata": {},
   "source": [
    "#### S2T and S2E"
   ]
  },
  {
   "cell_type": "code",
   "execution_count": null,
   "id": "656147a8-7078-4cc8-9e78-b425ff1b848f",
   "metadata": {},
   "outputs": [],
   "source": [
    "S2T = 0\n",
    "for power in anova['Power'].unique():\n",
    "    ng = len(anova[anova['Power'] == power])  \n",
    "    S2T  += ((anova[anova['Power'] == power]['Rate'].mean() - anova['Rate'].mean())**2)*ng\n",
    "S2T /= (anova['Power'].nunique()-1)\n",
    "print(\"The value of S2T is {:.2f}\".format(S2t))"
   ]
  },
  {
   "cell_type": "code",
   "execution_count": null,
   "id": "7edc3671-013a-40f0-825f-8f90d9fe9495",
   "metadata": {},
   "outputs": [],
   "source": [
    "S2E = 0\n",
    "for power in anova['Power'].unique():\n",
    "    for rate in anova[anova['Power'] == power]['Rate']:\n",
    "        S2E += (rate - anova[anova['Power'] == power]['Rate'].mean())**2\n",
    "S2E /= (len(anova) - anova['Power'].nunique()) \n",
    "\n",
    "print()\n",
    "print(\"The value of S2E is {:.2f}\".format(S2E))"
   ]
  },
  {
   "cell_type": "markdown",
   "id": "f0e460d9-7754-4874-85b3-11188c3e2734",
   "metadata": {},
   "source": [
    "#### F"
   ]
  },
  {
   "cell_type": "code",
   "execution_count": null,
   "id": "83f1af3d-894a-404d-b0da-546b8c6138fe",
   "metadata": {},
   "outputs": [],
   "source": [
    "F = S2T / S2E\n",
    "print(\"The value of F is {:.2f}\".format(F))"
   ]
  },
  {
   "cell_type": "code",
   "execution_count": null,
   "id": "3f95043f-a7dd-4192-9cac-b63549204a1e",
   "metadata": {},
   "outputs": [],
   "source": [
    "anova_t, anova_p = st.f_oneway(anova[anova['Power'] == 160]['Rate'],anova[anova['Power'] == 180]['Rate'],anova[anova['Power'] == 200]['Rate'])\n",
    "anova_t, anova_p"
   ]
  },
  {
   "cell_type": "markdown",
   "id": "cd592715-1e8c-4846-a05c-ed256f9a551d",
   "metadata": {},
   "source": [
    "#### Conclusion"
   ]
  },
  {
   "cell_type": "code",
   "execution_count": null,
   "id": "86e6cda0-bfa2-4acc-aef7-325bdb00d153",
   "metadata": {},
   "outputs": [],
   "source": [
    "anova_p > 0.05"
   ]
  },
  {
   "cell_type": "markdown",
   "id": "16fc9c41-404c-42cb-b64c-af4c65e8ab93",
   "metadata": {},
   "source": [
    "H0 is rejected, therefore there IS a difference in etching rate between different powers"
   ]
  }
 ],
 "metadata": {
  "kernelspec": {
   "display_name": "Python 3 (ipykernel)",
   "language": "python",
   "name": "python3"
  },
  "language_info": {
   "codemirror_mode": {
    "name": "ipython",
    "version": 3
   },
   "file_extension": ".py",
   "mimetype": "text/x-python",
   "name": "python",
   "nbconvert_exporter": "python",
   "pygments_lexer": "ipython3",
   "version": "3.9.12"
  }
 },
 "nbformat": 4,
 "nbformat_minor": 5
}
